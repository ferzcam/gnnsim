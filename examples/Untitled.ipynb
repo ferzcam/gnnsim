{
 "cells": [
  {
   "cell_type": "markdown",
   "metadata": {},
   "source": [
    "# Graph analysis"
   ]
  },
  {
   "cell_type": "code",
   "execution_count": 47,
   "metadata": {},
   "outputs": [],
   "source": [
    "import sys\n",
    "import networkx as nx\n",
    "sys.path.append(\"../../../\")\n",
    "\n",
    "from mowl.datasets.base import PathDataset\n",
    "from mowl.graph.util import parser_factory\n",
    "import yaml\n",
    "import pandas as pd\n",
    "import logging\n",
    "logging.basicConfig(level=logging.DEBUG)   \n",
    "import pickle as pkl\n",
    "from mowl.graph.edge import Edge"
   ]
  },
  {
   "cell_type": "code",
   "execution_count": 75,
   "metadata": {},
   "outputs": [],
   "source": [
    "def main():\n",
    "    parser = parser_factory(graph_method, ds.ontology, bidirectional_taxonomy=True)\n",
    "    edges_path = f\"data/edges_ppi_{graph_method}.pkl\"\n",
    "    \n",
    "    try:\n",
    "        logging.debug(\"try\")\n",
    "        infile = open(edges_path, 'rb')\n",
    "        edges = pkl.load(infile)\n",
    "    except:\n",
    "        logging.debug(\"except\")\n",
    "        logging.debug(\"Parsing ontology...\")\n",
    "        edges = parser.parse()\n",
    "        logging.info(\"Finished parsing ontology\")\n",
    "        edges = [(str(e.src()), str(e.rel()), str(e.dst())) for e in edges]\n",
    "        outfile = open(edges_path, 'wb')\n",
    "        pkl.dump(edges, outfile)\n",
    "\n",
    "    terms_file = file_params[\"terms_file\"]\n",
    "\n",
    "    with open(terms_file) as f:\n",
    "        removed_classes = set()\n",
    "        terms = list(set(f.read().splitlines()) - removed_classes)\n",
    "        edges = [Edge(s, r, d) for s,r,d in edges if s in terms and  d in terms]# and ics[s] > 0.3 and ics[d] > 0.3]\n",
    "        \n",
    "\n",
    "    \n",
    "    graph = nx.DiGraph()\n",
    "    \n",
    "    for edge in edges:\n",
    "        src, rel, dst = edge.src(), edge.rel(), edge.dst()\n",
    "\n",
    "        graph.add_edge(src, dst)\n",
    "        graph.edges[src,dst][\"type\"] = rel\n",
    "        graph.nodes[src][\"val\"] = False\n",
    "        graph.nodes[dst][\"val\"] = False\n",
    "    return graph"
   ]
  },
  {
   "cell_type": "code",
   "execution_count": 76,
   "metadata": {},
   "outputs": [],
   "source": [
    "def parseYAML(yaml_path):\n",
    "    with open(yaml_path, 'r') as f:\n",
    "        params = yaml.load(f, Loader=yaml.FullLoader)\n",
    "\n",
    "    return params"
   ]
  },
  {
   "cell_type": "code",
   "execution_count": 83,
   "metadata": {},
   "outputs": [
    {
     "name": "stderr",
     "output_type": "stream",
     "text": [
      "DEBUG:root:BID IS: True\n",
      "DEBUG:root:try\n"
     ]
    }
   ],
   "source": [
    "config = \"config/ppi/yeast/dl2vec.yaml\"\n",
    "\n",
    "params = parseYAML(config)\n",
    "\n",
    "graph_method = params[\"general\"][\"graph-gen-method\"]\n",
    "ontology = params[\"general\"][\"ontology\"]\n",
    "use_case = params[\"general\"][\"use-case\"]\n",
    "\n",
    "n_hidden = params[\"rgcn-params\"][\"n-hidden\"]\n",
    "dropout = params[\"rgcn-params\"][\"dropout\"]\n",
    "lr = params[\"rgcn-params\"][\"lr\"]\n",
    "num_bases = params[\"rgcn-params\"][\"num-bases\"]\n",
    "batch_size = params[\"rgcn-params\"][\"batch-size\"]\n",
    "epochs = params[\"rgcn-params\"][\"epochs\"]\n",
    "normalize =  params[\"rgcn-params\"][\"normalization\"]\n",
    "regularization = params[\"rgcn-params\"][\"regularization\"]\n",
    "self_loop =  params[\"rgcn-params\"][\"self-loop\"]\n",
    "seed =  params[\"rgcn-params\"][\"seed\"]\n",
    "min_edges = params[\"rgcn-params\"][\"min-edges\"]\n",
    "file_params = params[\"files\"]\n",
    "\n",
    "\n",
    "\n",
    "ds = PathDataset(ontology, None, None)\n",
    "graph =  main()"
   ]
  },
  {
   "cell_type": "code",
   "execution_count": 84,
   "metadata": {},
   "outputs": [
    {
     "data": {
      "text/plain": [
       "[7958]"
      ]
     },
     "execution_count": 84,
     "metadata": {},
     "output_type": "execute_result"
    }
   ],
   "source": [
    "diGraph = graph.to_undirected()\n",
    "[len(c) for c in sorted(nx.connected_components(diGraph), key=len, reverse=True)]"
   ]
  },
  {
   "cell_type": "code",
   "execution_count": 85,
   "metadata": {},
   "outputs": [
    {
     "data": {
      "text/plain": [
       "[6996, 962]"
      ]
     },
     "execution_count": 85,
     "metadata": {},
     "output_type": "execute_result"
    }
   ],
   "source": [
    "[len(c) for c in sorted(nx.strongly_connected_components(graph), key=len, reverse=True)]"
   ]
  },
  {
   "cell_type": "code",
   "execution_count": null,
   "metadata": {},
   "outputs": [],
   "source": []
  },
  {
   "cell_type": "code",
   "execution_count": null,
   "metadata": {},
   "outputs": [],
   "source": []
  }
 ],
 "metadata": {
  "kernelspec": {
   "display_name": "mowl",
   "language": "python",
   "name": "mowl"
  },
  "language_info": {
   "codemirror_mode": {
    "name": "ipython",
    "version": 3
   },
   "file_extension": ".py",
   "mimetype": "text/x-python",
   "name": "python",
   "nbconvert_exporter": "python",
   "pygments_lexer": "ipython3",
   "version": "3.9.7"
  }
 },
 "nbformat": 4,
 "nbformat_minor": 4
}
