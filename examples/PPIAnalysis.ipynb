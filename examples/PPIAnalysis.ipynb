{
 "cells": [
  {
   "cell_type": "markdown",
   "metadata": {},
   "source": [
    "## PPI YEAST ANALYSIS"
   ]
  },
  {
   "cell_type": "markdown",
   "metadata": {},
   "source": [
    "### Load annotations"
   ]
  },
  {
   "cell_type": "code",
   "execution_count": 1,
   "metadata": {},
   "outputs": [],
   "source": [
    "import matplotlib.pyplot as plt\n",
    "import pickle as pkl\n",
    "import pandas as pd"
   ]
  },
  {
   "cell_type": "code",
   "execution_count": 7,
   "metadata": {},
   "outputs": [],
   "source": [
    "annots_file_yeast = \"data/ppi/4932.annotations.tsv\"\n",
    "annots_yeast = open(annots_file_yeast, 'r')\n",
    "\n",
    "annots_dict = {x[0]: x[1:] for l in annots_yeast.readlines() if (x := l.strip().split('\\t')) is not None} "
   ]
  },
  {
   "cell_type": "code",
   "execution_count": 8,
   "metadata": {},
   "outputs": [
    {
     "data": {
      "text/plain": [
       "5468"
      ]
     },
     "execution_count": 8,
     "metadata": {},
     "output_type": "execute_result"
    }
   ],
   "source": [
    "len(annots_dict)"
   ]
  },
  {
   "cell_type": "code",
   "execution_count": 9,
   "metadata": {},
   "outputs": [
    {
     "name": "stdout",
     "output_type": "stream",
     "text": [
      "GO:0005575 5224\n"
     ]
    }
   ],
   "source": [
    "goClasses = {}\n",
    "\n",
    "for prot, classes in annots_dict.items():\n",
    "    for cls in classes:\n",
    "        if cls in goClasses:\n",
    "            goClasses[cls] +=1\n",
    "        else:\n",
    "            goClasses[cls] = 1\n",
    "\n",
    "max_value = max(goClasses, key=goClasses.get)\n",
    "print(max_value, goClasses[max_value])\n"
   ]
  },
  {
   "cell_type": "code",
   "execution_count": 10,
   "metadata": {},
   "outputs": [
    {
     "name": "stdout",
     "output_type": "stream",
     "text": [
      "GO:0005575 5224\n"
     ]
    },
    {
     "data": {
      "image/png": "[encoded data removed]",
      "text/plain": [
       "<Figure size 864x864 with 1 Axes>"
      ]
     },
     "metadata": {
      "needs_background": "light"
     },
     "output_type": "display_data"
    }
   ],
   "source": [
    "#del goClasses[\"GO:0005575\"]\n",
    "max_value = max(goClasses, key=goClasses.get)\n",
    "print(max_value, goClasses[max_value])\n",
    "\n",
    "plt.figure(figsize=(12,12))\n",
    "plt.bar(list(goClasses.keys()), goClasses.values(), color='g')\n",
    "plt.show()"
   ]
  },
  {
   "cell_type": "markdown",
   "metadata": {},
   "source": [
    "### Look for proteins with only _binding_ annotation"
   ]
  },
  {
   "cell_type": "code",
   "execution_count": 11,
   "metadata": {},
   "outputs": [
    {
     "data": {
      "text/plain": [
       "1795"
      ]
     },
     "execution_count": 11,
     "metadata": {},
     "output_type": "execute_result"
    }
   ],
   "source": [
    "goClasses[\"GO:0005488\"]"
   ]
  },
  {
   "cell_type": "code",
   "execution_count": 15,
   "metadata": {},
   "outputs": [],
   "source": [
    "for prot, classes in annots_dict.items():\n",
    "    if len(classes) == 1:\n",
    "        print(len(classes))\n",
    "\n"
   ]
  },
  {
   "cell_type": "markdown",
   "metadata": {},
   "source": [
    "### Load Interactions"
   ]
  },
  {
   "cell_type": "code",
   "execution_count": 47,
   "metadata": {},
   "outputs": [],
   "source": [
    "def loadInteractionsFile(file_name):\n",
    "    data_frame_train = pd.read_pickle(file_name)\n",
    "\n",
    "    degrees = {}\n",
    "    pos = 0\n",
    "    neg = 0\n",
    "\n",
    "    for row in data_frame_train.itertuples():\n",
    "        p1, p2 = row.interactions\n",
    "        label = row.labels\n",
    "\n",
    "        if label == 1:\n",
    "            pos += 1\n",
    "            if p1 in degrees:\n",
    "                degrees[p1] += 1\n",
    "            else:\n",
    "                degrees[p1] = 1\n",
    "            if p2 in degrees:\n",
    "                degrees[p2] += 1\n",
    "            else:\n",
    "                degrees[p2] = 1\n",
    "        else:\n",
    "            neg +=1\n",
    "\n",
    "    total = pos + neg\n",
    "    print(f\"Positives: {pos} ({pos/total}%), Negatives: {neg} ({neg/total}%), Total: {pos + neg}, Pos/Neg: {pos/neg}\")\n",
    "    return degrees"
   ]
  },
  {
   "cell_type": "code",
   "execution_count": 49,
   "metadata": {},
   "outputs": [
    {
     "name": "stdout",
     "output_type": "stream",
     "text": [
      "Positives: 45407 (0.1551691732535053%), Negatives: 247222 (0.8448308267464947%), Total: 292629, Pos/Neg: 0.18366892914061048\n",
      "Positives: 2837 (0.15132280776616172%), Negatives: 15911 (0.8486771922338383%), Total: 18748, Pos/Neg: 0.17830431776758218\n",
      "Positives: 4255 (0.14258905532656413%), Negatives: 25586 (0.8574109446734359%), Total: 29841, Pos/Neg: 0.16630188384272648\n",
      "P15646 215\n",
      "P26783 63\n",
      "P33201 72\n"
     ]
    }
   ],
   "source": [
    "train_interactions_file = \"data/ppi/4932.train_interactions.pkl\"\n",
    "degreesTrain = loadInteractionsFile(train_interactions_file)\n",
    "\n",
    "val_interactions_file = \"data/ppi/4932.valid_interactions.pkl\"\n",
    "degreesVal = loadInteractionsFile(val_interactions_file)\n",
    "\n",
    "test_interactions_file = \"data/ppi/4932.test_interactions.pkl\"\n",
    "degreesTest = loadInteractionsFile(test_interactions_file)\n",
    "\n",
    "max_value_train = max(degreesTrain, key=degreesTrain.get)\n",
    "print(max_value_train, degreesTrain[max_value_train])\n",
    "\n",
    "max_value_val = max(degreesVal, key=degreesVal.get)\n",
    "print(max_value_val, degreesVal[max_value_val])\n",
    "\n",
    "max_value_test = max(degreesTest, key=degreesTest.get)\n",
    "print(max_value_test, degreesTest[max_value_test])\n",
    "\n",
    "#print(sorted(annots_dict[max_value_train]))\n",
    "#print(sorted(annots_dict[max_value_val]))\n",
    "#print(sorted(annots_dict[max_value_test]))"
   ]
  },
  {
   "cell_type": "code",
   "execution_count": 29,
   "metadata": {},
   "outputs": [
    {
     "data": {
      "image/png": "[encoded data removed]",
      "text/plain": [
       "<Figure size 864x864 with 1 Axes>"
      ]
     },
     "metadata": {
      "needs_background": "light"
     },
     "output_type": "display_data"
    }
   ],
   "source": [
    "plt.figure(figsize=(12,12))\n",
    "plt.bar(list(degrees.keys()), degrees.values(), color='g')\n",
    "plt.show()"
   ]
  },
  {
   "cell_type": "markdown",
   "metadata": {},
   "source": [
    "## IC"
   ]
  },
  {
   "cell_type": "code",
   "execution_count": 1,
   "metadata": {},
   "outputs": [],
   "source": [
    "import sys\n",
    "sys.path.append(\"../../../\")\n",
    "\n",
    "from mowl.datasets.base import PathDataset\n",
    "from org.mowl.IC import IC\n",
    "import pandas as pd\n",
    "\n",
    "#JPype\n",
    "from jpype import JObject\n",
    "from java.util import HashMap\n",
    "from java.util import ArrayList\n",
    "\n",
    "def getAnnotsDict(training_prots):\n",
    "    data_file = \"data/ppi/4932.annotations.tsv\"\n",
    "\n",
    "    with open(data_file, 'r') as f:\n",
    "        rows = [line.strip('\\n').split('\\t') for line in f.readlines()]\n",
    "\n",
    "        annots_dict = HashMap()\n",
    "\n",
    "        for i, row  in enumerate(rows):\n",
    "            prot_id = row[0]\n",
    "\n",
    "            if prot_id in training_prots:\n",
    "                if not prot_id in annots_dict:\n",
    "                    annots_dict.put(prot_id, ArrayList())\n",
    "\n",
    "            for go_id in row[1:]:\n",
    "\n",
    "                if prot_id in training_prots:\n",
    "                    prot_annots = annots_dict[prot_id]\n",
    "                    prot_annots.add(go_id)\n",
    "                    annots_dict.put(prot_id, prot_annots)\n",
    "\n",
    "    return annots_dict"
   ]
  },
  {
   "cell_type": "code",
   "execution_count": 2,
   "metadata": {},
   "outputs": [
    {
     "name": "stderr",
     "output_type": "stream",
     "text": [
      "SLF4J: Class path contains multiple SLF4J bindings.\n",
      "SLF4J: Found binding in [jar:file:/ibex/scratch/zhapacfp/mowl/gateway/build/distributions/gateway/lib/slf4j-simple-1.7.25.jar!/org/slf4j/impl/StaticLoggerBinder.class]\n",
      "SLF4J: Found binding in [jar:file:/ibex/scratch/zhapacfp/mowl/gateway/build/distributions/gateway/lib/slf4j-log4j12-1.7.3.jar!/org/slf4j/impl/StaticLoggerBinder.class]\n",
      "SLF4J: See http://www.slf4j.org/codes.html#multiple_bindings for an explanation.\n",
      "SLF4J: Actual binding is of type [org.slf4j.impl.SimpleLoggerFactory]\n",
      "[main] INFO slib.graph.io.loader.rdf.RDFLoader - -------------------------------------\n",
      "[main] INFO slib.graph.io.loader.rdf.RDFLoader -  RDF Loader\n",
      "[main] INFO slib.graph.io.loader.rdf.RDFLoader - -------------------------------------\n",
      "[main] INFO slib.graph.io.loader.rdf.RDFLoader - Populate graph http://graph/ from /tmp/tmp5525229912619046909.owl\n",
      "[main] INFO slib.graph.io.loader.rdf.RDFLoader - Parser loaded for: RDF/XML (mimeTypes=application/rdf+xml, application/xml; ext=rdf, rdfs, owl, xml)\n",
      "[main] INFO slib.graph.io.loader.rdf.RDFLoader - Parsing RDF file...\n",
      "[main] INFO slib.graph.io.loader.rdf.SlibRdfHandler - Start Process\n",
      "[main] INFO slib.graph.io.loader.rdf.SlibRdfHandler - 100000 statements already loaded\n",
      "[main] INFO slib.graph.io.loader.rdf.SlibRdfHandler - Number of vertices: 40711\n",
      "[main] INFO slib.graph.io.loader.rdf.SlibRdfHandler - Number of edges   : 100000\n",
      "[main] INFO slib.graph.io.loader.rdf.SlibRdfHandler - 100000 statements already loaded\n",
      "[main] INFO slib.graph.io.loader.rdf.SlibRdfHandler - Number of vertices: 40711\n",
      "[main] INFO slib.graph.io.loader.rdf.SlibRdfHandler - Number of edges   : 100000\n",
      "[main] INFO slib.graph.io.loader.rdf.SlibRdfHandler - 100000 statements already loaded\n",
      "[main] INFO slib.graph.io.loader.rdf.SlibRdfHandler - Number of vertices: 40711\n",
      "[main] INFO slib.graph.io.loader.rdf.SlibRdfHandler - Number of edges   : 100000\n",
      "[main] INFO slib.graph.io.loader.rdf.SlibRdfHandler - 100000 statements already loaded\n",
      "[main] INFO slib.graph.io.loader.rdf.SlibRdfHandler - Number of vertices: 40711\n",
      "[main] INFO slib.graph.io.loader.rdf.SlibRdfHandler - Number of edges   : 100000\n",
      "[main] INFO slib.graph.io.loader.rdf.SlibRdfHandler - 100000 statements already loaded\n",
      "[main] INFO slib.graph.io.loader.rdf.SlibRdfHandler - Number of vertices: 40711\n",
      "[main] INFO slib.graph.io.loader.rdf.SlibRdfHandler - Number of edges   : 100000\n",
      "[main] INFO slib.graph.io.loader.rdf.SlibRdfHandler - 100000 statements already loaded\n",
      "[main] INFO slib.graph.io.loader.rdf.SlibRdfHandler - Number of vertices: 40711\n",
      "[main] INFO slib.graph.io.loader.rdf.SlibRdfHandler - Number of edges   : 100000\n",
      "[main] INFO slib.graph.io.loader.rdf.SlibRdfHandler - 100000 statements already loaded\n",
      "[main] INFO slib.graph.io.loader.rdf.SlibRdfHandler - Number of vertices: 40711\n",
      "[main] INFO slib.graph.io.loader.rdf.SlibRdfHandler - Number of edges   : 100000\n",
      "[main] INFO slib.graph.io.loader.rdf.SlibRdfHandler - Ending Process 131714 statements loaded \n",
      "[main] INFO slib.graph.io.loader.rdf.SlibRdfHandler - vertices: 50804\n",
      "[main] INFO slib.graph.io.loader.rdf.SlibRdfHandler - edges   : 131714\n",
      "[main] INFO slib.graph.io.loader.rdf.SlibRdfHandler - Skipped (statement involving non URI ressources) : 1293697\n",
      "[main] INFO slib.graph.io.loader.rdf.RDFLoader - Graph http://graph/ populated by RDF data \n",
      "[main] INFO slib.graph.io.loader.rdf.RDFLoader - -------------------------------------\n",
      "[main] INFO slib.sml.sm.core.engine.SM_Engine - ================================================================\n",
      "[main] INFO slib.sml.sm.core.engine.SM_Engine - Loading Semantic Measures Engine for graph http://graph/\n",
      "[main] INFO slib.sml.sm.core.engine.SM_Engine - ================================================================\n",
      "[main] INFO slib.sml.sm.core.engine.SM_Engine - Graph Info: \n",
      "[main] INFO slib.sml.sm.core.engine.SM_Engine - http://graph/\n",
      "Vertices\n",
      "\tTotal   : 61241  {e.g. http://purl.obolibrary.org/obo/GO_0099593}\n",
      "Edges \t  : 359967\n",
      "\n",
      "\n",
      "[main] INFO slib.sml.sm.core.engine.SM_Engine - ---------------------------------------------------------------\n",
      "[main] INFO slib.sml.sm.core.engine.SM_Engine - Pre-processing\n",
      "[main] INFO slib.sml.sm.core.engine.SM_Engine - ---------------------------------------------------------------\n",
      "[main] INFO slib.sml.sm.core.engine.SM_Engine - Computing classes...\n",
      "[main] INFO slib.sml.sm.core.engine.SM_Engine - Computing instances...\n",
      "[main] INFO slib.sml.sm.core.engine.SM_Engine - Classes  : 57798\n",
      "[main] INFO slib.sml.sm.core.engine.SM_Engine - Instances: 10551\n",
      "[main] INFO slib.sml.sm.core.engine.SM_Engine - ---------------------------------------------------------------\n",
      "[main] INFO slib.sml.sm.core.engine.SM_Engine - Inferences \n",
      "[main] INFO slib.sml.sm.core.engine.SM_Engine - ---------------------------------------------------------------\n",
      "[main] INFO slib.sml.sm.core.engine.SM_Engine - Inferring ancestors...\n",
      "[main] INFO slib.graph.algo.extraction.rvf.AncestorEngine - Checking Treatment coherency\n",
      "[main] INFO slib.graph.algo.extraction.rvf.AncestorEngine - Incoherencies : 0\n",
      "[main] INFO slib.sml.sm.core.engine.SM_Engine - Inferring descendants...\n",
      "[main] INFO slib.graph.algo.extraction.rvf.DescendantEngine - Checking Treatment coherency\n",
      "[main] INFO slib.graph.algo.extraction.rvf.DescendantEngine - Incoherencies : 0\n",
      "[main] INFO slib.sml.sm.core.engine.SM_Engine - Inferring Conceptual Leaves...\n",
      "[main] INFO slib.sml.sm.core.engine.SM_Engine - ---------------------------------------------------------------\n",
      "[main] INFO slib.sml.sm.core.engine.SM_Engine - Engine initialized\n",
      "[main] INFO slib.sml.sm.core.engine.SM_Engine - ================================================================\n",
      "[main] INFO slib.sml.sm.core.engine.SM_Engine - ---------------------------------------------------------------\n",
      "[main] INFO slib.sml.sm.core.engine.SM_Engine - computing IC ResnikIC\n",
      "[main] INFO slib.sml.sm.core.engine.SM_Engine - ---------------------------------------------------------------\n",
      "[main] INFO slib.sml.sm.core.engine.SM_Engine - Class name slib.sml.sm.core.metrics.ic.annot.IC_annot_resnik_1995_Normalized\n",
      "[main] INFO slib.sml.sm.core.engine.SM_Engine - Checking null or infinite in the ICs computed\n",
      "[main] INFO slib.sml.sm.core.engine.SM_Engine - ic ResnikIC computed\n",
      "[main] INFO slib.sml.sm.core.engine.SM_Engine - ---------------------------------------------------------------\n"
     ]
    }
   ],
   "source": [
    "\n",
    "\n",
    "ds = PathDataset(\"data/ppi/go.owl\", None, None)\n",
    "\n",
    "train_df = pd.read_pickle(\"data/ppi/4932.train_interactions.pkl\")\n",
    "\n",
    "#For computing IC\n",
    "training_prots = set()\n",
    "for row in train_df.itertuples():\n",
    "    p1, p2 = row.interactions\n",
    "    training_prots.add(p1)\n",
    "    training_prots.add(p2)\n",
    "\n",
    "annots_dict = getAnnotsDict(training_prots)\n",
    "ics = IC.computeIC(ds.ontology, annots_dict)\n",
    "ics = {format(str(k)): v for k, v in ics.items()}"
   ]
  },
  {
   "cell_type": "code",
   "execution_count": 3,
   "metadata": {},
   "outputs": [],
   "source": [
    "sorted_ic = dict(sorted(ics.items(),key= lambda x:x[1]))"
   ]
  },
  {
   "cell_type": "code",
   "execution_count": 4,
   "metadata": {},
   "outputs": [],
   "source": [
    "list_ic = list(sorted_ic.items())"
   ]
  },
  {
   "cell_type": "code",
   "execution_count": 5,
   "metadata": {},
   "outputs": [
    {
     "data": {
      "text/plain": [
       "[('http://purl.obolibrary.org/obo/GO_0008150', -0.0),\n",
       " ('http://purl.obolibrary.org/obo/GO_0003674', 0.05521568892317033),\n",
       " ('http://purl.obolibrary.org/obo/GO_0009987', 0.08487088952751531),\n",
       " ('http://purl.obolibrary.org/obo/GO_0003824', 0.0907271860171759),\n",
       " ('http://purl.obolibrary.org/obo/GO_0065007', 0.11286035326522934),\n",
       " ('http://purl.obolibrary.org/obo/GO_0050789', 0.125816040503003),\n",
       " ('http://purl.obolibrary.org/obo/GO_0050794', 0.15391080391791814),\n",
       " ('http://purl.obolibrary.org/obo/GO_0008152', 0.16888522194864478),\n",
       " ('http://purl.obolibrary.org/obo/GO_0005575', 0.17241419339179986),\n",
       " ('http://graph/GO:0005575', 0.1729724929830054)]"
      ]
     },
     "execution_count": 5,
     "metadata": {},
     "output_type": "execute_result"
    }
   ],
   "source": [
    "list_ic[:10]"
   ]
  },
  {
   "cell_type": "code",
   "execution_count": 6,
   "metadata": {},
   "outputs": [
    {
     "data": {
      "text/plain": [
       "0.2644125690472817"
      ]
     },
     "execution_count": 6,
     "metadata": {},
     "output_type": "execute_result"
    }
   ],
   "source": [
    "ics[\"http://purl.obolibrary.org/obo/GO_0005488\"]"
   ]
  },
  {
   "cell_type": "code",
   "execution_count": 7,
   "metadata": {},
   "outputs": [
    {
     "data": {
      "text/plain": [
       "[('http://purl.obolibrary.org/obo/GO_0140040', 1.0),\n",
       " ('http://purl.obolibrary.org/obo/GO_0140043', 1.0),\n",
       " ('http://purl.obolibrary.org/obo/GO_0140042', 1.0),\n",
       " ('http://purl.obolibrary.org/obo/GO_0140045', 1.0),\n",
       " ('http://purl.obolibrary.org/obo/GO_0140037', 1.0),\n",
       " ('http://purl.obolibrary.org/obo/GO_0140039', 1.0),\n",
       " ('http://purl.obolibrary.org/obo/GO_0140032', 1.0),\n",
       " ('http://purl.obolibrary.org/obo/GO_0140031', 1.0),\n",
       " ('http://purl.obolibrary.org/obo/GO_0140033', 1.0),\n",
       " ('http://purl.obolibrary.org/obo/GO_0140036', 1.0)]"
      ]
     },
     "execution_count": 7,
     "metadata": {},
     "output_type": "execute_result"
    }
   ],
   "source": [
    "list_ic[-10:]"
   ]
  },
  {
   "cell_type": "code",
   "execution_count": null,
   "metadata": {},
   "outputs": [],
   "source": []
  }
 ],
 "metadata": {
  "kernelspec": {
   "display_name": "mowl",
   "language": "python",
   "name": "mowl"
  },
  "language_info": {
   "codemirror_mode": {
    "name": "ipython",
    "version": 3
   },
   "file_extension": ".py",
   "mimetype": "text/x-python",
   "name": "python",
   "nbconvert_exporter": "python",
   "pygments_lexer": "ipython3",
   "version": "3.9.7"
  }
 },
 "nbformat": 4,
 "nbformat_minor": 4
}
